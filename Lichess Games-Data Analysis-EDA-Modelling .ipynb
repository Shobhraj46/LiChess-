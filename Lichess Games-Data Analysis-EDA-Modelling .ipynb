{
 "cells": [
  {
   "cell_type": "markdown",
   "id": "0288da40",
   "metadata": {},
   "source": [
    "# Data Science - Assignment\n",
    "Use the following Dataset:-\n",
    "- Lichess Games Data: https://www.kaggle.com/datasets/datasnaek/chess/data"
   ]
  },
  {
   "cell_type": "markdown",
   "id": "c50d356a",
   "metadata": {},
   "source": [
    "## Problem Statement\n",
    "\n",
    "Understand the data and approach for the following:\n",
    "1. Provide insights on the data such as:\n",
    "- General trends of ‘White’ players with respect to ‘Black’ players\n",
    "- Any trend of winners with respect to turns and match time?\n",
    "- Go to openings with respect to rank and color.\n",
    "\n",
    "\n",
    "Provide additional relevant insights that portray information regarding the overall player population on Lichess. Go for quality insights over quantity insights.\n",
    "\n",
    "2. Using the opening moves, opening styles, color, and other features, Is it possible to predict the winner of a match to a certain degree? Explain your answer.\n",
    "\n",
    "\n",
    "Note:-\n",
    "Please provide files in an accessible format. The results and charts must be reproducible.\n",
    "Explaining logic and steps taken throughout the process will help you showcase yourself better.\n",
    "The dataset is publicly available, hence there are various solutions available online. You may take references for inspiration, but the final submissions must have originality and quality."
   ]
  },
  {
   "cell_type": "markdown",
   "id": "81c5f19c",
   "metadata": {},
   "source": [
    "## Data Information\n",
    "\n",
    "This is a set of just over 20,000 games collected from a selection of users on the site Lichess.org, and how to collect more. I will also upload more games in the future as I collect them. \n",
    "\n",
    "\n",
    "This set contains the:\n",
    "* Game ID;\n",
    "* Rated (T/F);\n",
    "* Start Time;\n",
    "* End Time;\n",
    "* Number of Turns;\n",
    "* Game Status;\n",
    "* Winner;\n",
    "* Time Increment;\n",
    "* White Player ID;\n",
    "* White Player Rating;\n",
    "* Black Player ID;\n",
    "* Black Player Rating;\n",
    "* All Moves in Standard Chess Notation;\n",
    "* Opening Eco (Standardised Code for any given opening, list here);\n",
    "* Opening Name;\n",
    "* Opening Ply (Number of moves in the opening phase)\n"
   ]
  },
  {
   "cell_type": "markdown",
   "id": "682a669c",
   "metadata": {},
   "source": [
    "## Libraries\n"
   ]
  },
  {
   "cell_type": "code",
   "execution_count": 1,
   "id": "fec7c6d3",
   "metadata": {},
   "outputs": [],
   "source": [
    "import numpy as np\n",
    "import pandas as pd\n",
    "import matplotlib.pyplot as plt\n",
    "import seaborn as sns\n",
    "\n",
    "from sklearn.preprocessing import LabelEncoder, StandardScaler,MinMaxScaler\n",
    "from sklearn import preprocessing\n",
    "from imblearn.over_sampling import SMOTE\n",
    "from sklearn.model_selection import train_test_split,GridSearchCV\n",
    "\n",
    "from sklearn.neighbors import KNeighborsClassifier\n",
    "from sklearn.naive_bayes import GaussianNB\n",
    "from sklearn.tree import DecisionTreeClassifier\n",
    "from sklearn.linear_model import LogisticRegression\n",
    "from sklearn.ensemble import RandomForestClassifier\n",
    "from sklearn.metrics import accuracy_score, classification_report"
   ]
  },
  {
   "cell_type": "markdown",
   "id": "b86994f4",
   "metadata": {},
   "source": [
    "## Importing and Reading dataset\n"
   ]
  },
  {
   "cell_type": "code",
   "execution_count": 2,
   "id": "d0a70e6c",
   "metadata": {},
   "outputs": [
    {
     "data": {
      "text/html": [
       "<div>\n",
       "<style scoped>\n",
       "    .dataframe tbody tr th:only-of-type {\n",
       "        vertical-align: middle;\n",
       "    }\n",
       "\n",
       "    .dataframe tbody tr th {\n",
       "        vertical-align: top;\n",
       "    }\n",
       "\n",
       "    .dataframe thead th {\n",
       "        text-align: right;\n",
       "    }\n",
       "</style>\n",
       "<table border=\"1\" class=\"dataframe\">\n",
       "  <thead>\n",
       "    <tr style=\"text-align: right;\">\n",
       "      <th></th>\n",
       "      <th>id</th>\n",
       "      <th>rated</th>\n",
       "      <th>created_at</th>\n",
       "      <th>last_move_at</th>\n",
       "      <th>turns</th>\n",
       "      <th>victory_status</th>\n",
       "      <th>winner</th>\n",
       "      <th>increment_code</th>\n",
       "      <th>white_id</th>\n",
       "      <th>white_rating</th>\n",
       "      <th>black_id</th>\n",
       "      <th>black_rating</th>\n",
       "      <th>moves</th>\n",
       "      <th>opening_eco</th>\n",
       "      <th>opening_name</th>\n",
       "      <th>opening_ply</th>\n",
       "    </tr>\n",
       "  </thead>\n",
       "  <tbody>\n",
       "    <tr>\n",
       "      <th>0</th>\n",
       "      <td>TZJHLljE</td>\n",
       "      <td>False</td>\n",
       "      <td>1.504210e+12</td>\n",
       "      <td>1.504210e+12</td>\n",
       "      <td>13</td>\n",
       "      <td>outoftime</td>\n",
       "      <td>white</td>\n",
       "      <td>15+2</td>\n",
       "      <td>bourgris</td>\n",
       "      <td>1500</td>\n",
       "      <td>a-00</td>\n",
       "      <td>1191</td>\n",
       "      <td>d4 d5 c4 c6 cxd5 e6 dxe6 fxe6 Nf3 Bb4+ Nc3 Ba5...</td>\n",
       "      <td>D10</td>\n",
       "      <td>Slav Defense: Exchange Variation</td>\n",
       "      <td>5</td>\n",
       "    </tr>\n",
       "    <tr>\n",
       "      <th>1</th>\n",
       "      <td>l1NXvwaE</td>\n",
       "      <td>True</td>\n",
       "      <td>1.504130e+12</td>\n",
       "      <td>1.504130e+12</td>\n",
       "      <td>16</td>\n",
       "      <td>resign</td>\n",
       "      <td>black</td>\n",
       "      <td>5+10</td>\n",
       "      <td>a-00</td>\n",
       "      <td>1322</td>\n",
       "      <td>skinnerua</td>\n",
       "      <td>1261</td>\n",
       "      <td>d4 Nc6 e4 e5 f4 f6 dxe5 fxe5 fxe5 Nxe5 Qd4 Nc6...</td>\n",
       "      <td>B00</td>\n",
       "      <td>Nimzowitsch Defense: Kennedy Variation</td>\n",
       "      <td>4</td>\n",
       "    </tr>\n",
       "    <tr>\n",
       "      <th>2</th>\n",
       "      <td>mIICvQHh</td>\n",
       "      <td>True</td>\n",
       "      <td>1.504130e+12</td>\n",
       "      <td>1.504130e+12</td>\n",
       "      <td>61</td>\n",
       "      <td>mate</td>\n",
       "      <td>white</td>\n",
       "      <td>5+10</td>\n",
       "      <td>ischia</td>\n",
       "      <td>1496</td>\n",
       "      <td>a-00</td>\n",
       "      <td>1500</td>\n",
       "      <td>e4 e5 d3 d6 Be3 c6 Be2 b5 Nd2 a5 a4 c5 axb5 Nc...</td>\n",
       "      <td>C20</td>\n",
       "      <td>King's Pawn Game: Leonardis Variation</td>\n",
       "      <td>3</td>\n",
       "    </tr>\n",
       "    <tr>\n",
       "      <th>3</th>\n",
       "      <td>kWKvrqYL</td>\n",
       "      <td>True</td>\n",
       "      <td>1.504110e+12</td>\n",
       "      <td>1.504110e+12</td>\n",
       "      <td>61</td>\n",
       "      <td>mate</td>\n",
       "      <td>white</td>\n",
       "      <td>20+0</td>\n",
       "      <td>daniamurashov</td>\n",
       "      <td>1439</td>\n",
       "      <td>adivanov2009</td>\n",
       "      <td>1454</td>\n",
       "      <td>d4 d5 Nf3 Bf5 Nc3 Nf6 Bf4 Ng4 e3 Nc6 Be2 Qd7 O...</td>\n",
       "      <td>D02</td>\n",
       "      <td>Queen's Pawn Game: Zukertort Variation</td>\n",
       "      <td>3</td>\n",
       "    </tr>\n",
       "    <tr>\n",
       "      <th>4</th>\n",
       "      <td>9tXo1AUZ</td>\n",
       "      <td>True</td>\n",
       "      <td>1.504030e+12</td>\n",
       "      <td>1.504030e+12</td>\n",
       "      <td>95</td>\n",
       "      <td>mate</td>\n",
       "      <td>white</td>\n",
       "      <td>30+3</td>\n",
       "      <td>nik221107</td>\n",
       "      <td>1523</td>\n",
       "      <td>adivanov2009</td>\n",
       "      <td>1469</td>\n",
       "      <td>e4 e5 Nf3 d6 d4 Nc6 d5 Nb4 a3 Na6 Nc3 Be7 b4 N...</td>\n",
       "      <td>C41</td>\n",
       "      <td>Philidor Defense</td>\n",
       "      <td>5</td>\n",
       "    </tr>\n",
       "  </tbody>\n",
       "</table>\n",
       "</div>"
      ],
      "text/plain": [
       "         id  rated    created_at  last_move_at  turns victory_status winner  \\\n",
       "0  TZJHLljE  False  1.504210e+12  1.504210e+12     13      outoftime  white   \n",
       "1  l1NXvwaE   True  1.504130e+12  1.504130e+12     16         resign  black   \n",
       "2  mIICvQHh   True  1.504130e+12  1.504130e+12     61           mate  white   \n",
       "3  kWKvrqYL   True  1.504110e+12  1.504110e+12     61           mate  white   \n",
       "4  9tXo1AUZ   True  1.504030e+12  1.504030e+12     95           mate  white   \n",
       "\n",
       "  increment_code       white_id  white_rating      black_id  black_rating  \\\n",
       "0           15+2       bourgris          1500          a-00          1191   \n",
       "1           5+10           a-00          1322     skinnerua          1261   \n",
       "2           5+10         ischia          1496          a-00          1500   \n",
       "3           20+0  daniamurashov          1439  adivanov2009          1454   \n",
       "4           30+3      nik221107          1523  adivanov2009          1469   \n",
       "\n",
       "                                               moves opening_eco  \\\n",
       "0  d4 d5 c4 c6 cxd5 e6 dxe6 fxe6 Nf3 Bb4+ Nc3 Ba5...         D10   \n",
       "1  d4 Nc6 e4 e5 f4 f6 dxe5 fxe5 fxe5 Nxe5 Qd4 Nc6...         B00   \n",
       "2  e4 e5 d3 d6 Be3 c6 Be2 b5 Nd2 a5 a4 c5 axb5 Nc...         C20   \n",
       "3  d4 d5 Nf3 Bf5 Nc3 Nf6 Bf4 Ng4 e3 Nc6 Be2 Qd7 O...         D02   \n",
       "4  e4 e5 Nf3 d6 d4 Nc6 d5 Nb4 a3 Na6 Nc3 Be7 b4 N...         C41   \n",
       "\n",
       "                             opening_name  opening_ply  \n",
       "0        Slav Defense: Exchange Variation            5  \n",
       "1  Nimzowitsch Defense: Kennedy Variation            4  \n",
       "2   King's Pawn Game: Leonardis Variation            3  \n",
       "3  Queen's Pawn Game: Zukertort Variation            3  \n",
       "4                        Philidor Defense            5  "
      ]
     },
     "execution_count": 2,
     "metadata": {},
     "output_type": "execute_result"
    }
   ],
   "source": [
    "df = pd.read_csv('games.csv')\n",
    "df.head()"
   ]
  },
  {
   "cell_type": "markdown",
   "id": "3dd8fd70",
   "metadata": {},
   "source": [
    "## Data Understanding"
   ]
  },
  {
   "cell_type": "code",
   "execution_count": 3,
   "id": "7cd7afa9",
   "metadata": {},
   "outputs": [
    {
     "data": {
      "text/plain": [
       "(20058, 16)"
      ]
     },
     "execution_count": 3,
     "metadata": {},
     "output_type": "execute_result"
    }
   ],
   "source": [
    "df.shape"
   ]
  },
  {
   "cell_type": "code",
   "execution_count": 4,
   "id": "d77cb910",
   "metadata": {},
   "outputs": [
    {
     "name": "stdout",
     "output_type": "stream",
     "text": [
      "<class 'pandas.core.frame.DataFrame'>\n",
      "RangeIndex: 20058 entries, 0 to 20057\n",
      "Data columns (total 16 columns):\n",
      " #   Column          Non-Null Count  Dtype  \n",
      "---  ------          --------------  -----  \n",
      " 0   id              20058 non-null  object \n",
      " 1   rated           20058 non-null  bool   \n",
      " 2   created_at      20058 non-null  float64\n",
      " 3   last_move_at    20058 non-null  float64\n",
      " 4   turns           20058 non-null  int64  \n",
      " 5   victory_status  20058 non-null  object \n",
      " 6   winner          20058 non-null  object \n",
      " 7   increment_code  20058 non-null  object \n",
      " 8   white_id        20058 non-null  object \n",
      " 9   white_rating    20058 non-null  int64  \n",
      " 10  black_id        20058 non-null  object \n",
      " 11  black_rating    20058 non-null  int64  \n",
      " 12  moves           20058 non-null  object \n",
      " 13  opening_eco     20058 non-null  object \n",
      " 14  opening_name    20058 non-null  object \n",
      " 15  opening_ply     20058 non-null  int64  \n",
      "dtypes: bool(1), float64(2), int64(4), object(9)\n",
      "memory usage: 2.3+ MB\n"
     ]
    }
   ],
   "source": [
    "df.info()"
   ]
  },
  {
   "cell_type": "code",
   "execution_count": 5,
   "id": "3119d2fa",
   "metadata": {},
   "outputs": [
    {
     "data": {
      "text/plain": [
       "id                0\n",
       "rated             0\n",
       "created_at        0\n",
       "last_move_at      0\n",
       "turns             0\n",
       "victory_status    0\n",
       "winner            0\n",
       "increment_code    0\n",
       "white_id          0\n",
       "white_rating      0\n",
       "black_id          0\n",
       "black_rating      0\n",
       "moves             0\n",
       "opening_eco       0\n",
       "opening_name      0\n",
       "opening_ply       0\n",
       "dtype: int64"
      ]
     },
     "execution_count": 5,
     "metadata": {},
     "output_type": "execute_result"
    }
   ],
   "source": [
    "df.isnull().sum()"
   ]
  },
  {
   "cell_type": "code",
   "execution_count": 6,
   "id": "e648fd3e",
   "metadata": {},
   "outputs": [
    {
     "data": {
      "text/plain": [
       "False    19629\n",
       "True       429\n",
       "dtype: int64"
      ]
     },
     "execution_count": 6,
     "metadata": {},
     "output_type": "execute_result"
    }
   ],
   "source": [
    "df.duplicated().value_counts()"
   ]
  },
  {
   "cell_type": "code",
   "execution_count": 7,
   "id": "2828418b",
   "metadata": {},
   "outputs": [],
   "source": [
    "df.drop_duplicates(inplace=True)"
   ]
  },
  {
   "cell_type": "code",
   "execution_count": 8,
   "id": "5514a543",
   "metadata": {},
   "outputs": [
    {
     "data": {
      "text/html": [
       "<div>\n",
       "<style scoped>\n",
       "    .dataframe tbody tr th:only-of-type {\n",
       "        vertical-align: middle;\n",
       "    }\n",
       "\n",
       "    .dataframe tbody tr th {\n",
       "        vertical-align: top;\n",
       "    }\n",
       "\n",
       "    .dataframe thead th {\n",
       "        text-align: right;\n",
       "    }\n",
       "</style>\n",
       "<table border=\"1\" class=\"dataframe\">\n",
       "  <thead>\n",
       "    <tr style=\"text-align: right;\">\n",
       "      <th></th>\n",
       "      <th>created_at</th>\n",
       "      <th>last_move_at</th>\n",
       "      <th>turns</th>\n",
       "      <th>white_rating</th>\n",
       "      <th>black_rating</th>\n",
       "      <th>opening_ply</th>\n",
       "    </tr>\n",
       "  </thead>\n",
       "  <tbody>\n",
       "    <tr>\n",
       "      <th>count</th>\n",
       "      <td>1.962900e+04</td>\n",
       "      <td>1.962900e+04</td>\n",
       "      <td>19629.000000</td>\n",
       "      <td>19629.000000</td>\n",
       "      <td>19629.000000</td>\n",
       "      <td>19629.000000</td>\n",
       "    </tr>\n",
       "    <tr>\n",
       "      <th>mean</th>\n",
       "      <td>1.483721e+12</td>\n",
       "      <td>1.483722e+12</td>\n",
       "      <td>60.458607</td>\n",
       "      <td>1596.090224</td>\n",
       "      <td>1588.324622</td>\n",
       "      <td>4.804422</td>\n",
       "    </tr>\n",
       "    <tr>\n",
       "      <th>std</th>\n",
       "      <td>2.809364e+10</td>\n",
       "      <td>2.809353e+10</td>\n",
       "      <td>33.502852</td>\n",
       "      <td>290.165038</td>\n",
       "      <td>290.164447</td>\n",
       "      <td>2.792791</td>\n",
       "    </tr>\n",
       "    <tr>\n",
       "      <th>min</th>\n",
       "      <td>1.376772e+12</td>\n",
       "      <td>1.376772e+12</td>\n",
       "      <td>1.000000</td>\n",
       "      <td>784.000000</td>\n",
       "      <td>789.000000</td>\n",
       "      <td>1.000000</td>\n",
       "    </tr>\n",
       "    <tr>\n",
       "      <th>25%</th>\n",
       "      <td>1.477530e+12</td>\n",
       "      <td>1.477530e+12</td>\n",
       "      <td>37.000000</td>\n",
       "      <td>1400.000000</td>\n",
       "      <td>1393.000000</td>\n",
       "      <td>3.000000</td>\n",
       "    </tr>\n",
       "    <tr>\n",
       "      <th>50%</th>\n",
       "      <td>1.495830e+12</td>\n",
       "      <td>1.495830e+12</td>\n",
       "      <td>55.000000</td>\n",
       "      <td>1567.000000</td>\n",
       "      <td>1562.000000</td>\n",
       "      <td>4.000000</td>\n",
       "    </tr>\n",
       "    <tr>\n",
       "      <th>75%</th>\n",
       "      <td>1.503107e+12</td>\n",
       "      <td>1.503110e+12</td>\n",
       "      <td>79.000000</td>\n",
       "      <td>1791.000000</td>\n",
       "      <td>1783.000000</td>\n",
       "      <td>6.000000</td>\n",
       "    </tr>\n",
       "    <tr>\n",
       "      <th>max</th>\n",
       "      <td>1.504493e+12</td>\n",
       "      <td>1.504494e+12</td>\n",
       "      <td>349.000000</td>\n",
       "      <td>2700.000000</td>\n",
       "      <td>2723.000000</td>\n",
       "      <td>28.000000</td>\n",
       "    </tr>\n",
       "  </tbody>\n",
       "</table>\n",
       "</div>"
      ],
      "text/plain": [
       "         created_at  last_move_at         turns  white_rating  black_rating  \\\n",
       "count  1.962900e+04  1.962900e+04  19629.000000  19629.000000  19629.000000   \n",
       "mean   1.483721e+12  1.483722e+12     60.458607   1596.090224   1588.324622   \n",
       "std    2.809364e+10  2.809353e+10     33.502852    290.165038    290.164447   \n",
       "min    1.376772e+12  1.376772e+12      1.000000    784.000000    789.000000   \n",
       "25%    1.477530e+12  1.477530e+12     37.000000   1400.000000   1393.000000   \n",
       "50%    1.495830e+12  1.495830e+12     55.000000   1567.000000   1562.000000   \n",
       "75%    1.503107e+12  1.503110e+12     79.000000   1791.000000   1783.000000   \n",
       "max    1.504493e+12  1.504494e+12    349.000000   2700.000000   2723.000000   \n",
       "\n",
       "        opening_ply  \n",
       "count  19629.000000  \n",
       "mean       4.804422  \n",
       "std        2.792791  \n",
       "min        1.000000  \n",
       "25%        3.000000  \n",
       "50%        4.000000  \n",
       "75%        6.000000  \n",
       "max       28.000000  "
      ]
     },
     "execution_count": 8,
     "metadata": {},
     "output_type": "execute_result"
    }
   ],
   "source": [
    "df.describe()"
   ]
  },
  {
   "cell_type": "markdown",
   "id": "00b1a095",
   "metadata": {},
   "source": [
    "\n",
    "1. Number of Games and Observations:\n",
    "\n",
    "There are a total of 19,629 observations (or games) in the dataset.\n",
    "\n",
    "2. Timestamps:\n",
    "\n",
    "The created_at and last_move_at columns represent timestamps indicating when the games were created and when the last move was made, respectively.\n",
    "The timestamps seem to be in a numerical format (e.g., 1.96E+04) and may need to be converted to a human-readable format for better interpretation.\n",
    "\n",
    "3. Game Characteristics:\n",
    "\n",
    "On average, games consist of approximately 60 moves (turns), with a standard deviation of about 33 moves.\n",
    "The minimum number of moves in a game is 1, while the maximum is 349 moves.\n",
    "The majority of games fall within the 25th and 75th percentiles, suggesting that most games have between 37 and 79 moves.\n",
    "\n",
    "4. Player Ratings:\n",
    "\n",
    "The white_rating and black_rating columns represent the ratings of the white and black players, respectively.\n",
    "On average, white players have a slightly higher rating (about 1596) compared to black players (about 1588).\n",
    "Ratings range from a minimum of 784 to a maximum of 2723, indicating a broad spectrum of player skill levels.\n",
    "\n",
    "5. Opening Moves:\n",
    "\n",
    "The opening_ply column indicates the number of moves played in the opening phase of each game.\n",
    "On average, around 5 moves are played in the opening phase, with a standard deviation of approximately 3 moves.\n",
    "The minimum number of opening moves is 1, and the maximum is 28 moves."
   ]
  },
  {
   "cell_type": "code",
   "execution_count": 9,
   "id": "a7ffaf18",
   "metadata": {},
   "outputs": [
    {
     "data": {
      "text/html": [
       "<div>\n",
       "<style scoped>\n",
       "    .dataframe tbody tr th:only-of-type {\n",
       "        vertical-align: middle;\n",
       "    }\n",
       "\n",
       "    .dataframe tbody tr th {\n",
       "        vertical-align: top;\n",
       "    }\n",
       "\n",
       "    .dataframe thead th {\n",
       "        text-align: right;\n",
       "    }\n",
       "</style>\n",
       "<table border=\"1\" class=\"dataframe\">\n",
       "  <thead>\n",
       "    <tr style=\"text-align: right;\">\n",
       "      <th></th>\n",
       "      <th>count</th>\n",
       "      <th>unique</th>\n",
       "      <th>top</th>\n",
       "      <th>freq</th>\n",
       "    </tr>\n",
       "  </thead>\n",
       "  <tbody>\n",
       "    <tr>\n",
       "      <th>id</th>\n",
       "      <td>19629</td>\n",
       "      <td>19113</td>\n",
       "      <td>WbTSc5pg</td>\n",
       "      <td>2</td>\n",
       "    </tr>\n",
       "    <tr>\n",
       "      <th>rated</th>\n",
       "      <td>19629</td>\n",
       "      <td>2</td>\n",
       "      <td>True</td>\n",
       "      <td>15817</td>\n",
       "    </tr>\n",
       "    <tr>\n",
       "      <th>victory_status</th>\n",
       "      <td>19629</td>\n",
       "      <td>4</td>\n",
       "      <td>resign</td>\n",
       "      <td>10926</td>\n",
       "    </tr>\n",
       "    <tr>\n",
       "      <th>winner</th>\n",
       "      <td>19629</td>\n",
       "      <td>3</td>\n",
       "      <td>white</td>\n",
       "      <td>9792</td>\n",
       "    </tr>\n",
       "    <tr>\n",
       "      <th>increment_code</th>\n",
       "      <td>19629</td>\n",
       "      <td>400</td>\n",
       "      <td>10+0</td>\n",
       "      <td>7563</td>\n",
       "    </tr>\n",
       "    <tr>\n",
       "      <th>white_id</th>\n",
       "      <td>19629</td>\n",
       "      <td>9438</td>\n",
       "      <td>bleda</td>\n",
       "      <td>48</td>\n",
       "    </tr>\n",
       "    <tr>\n",
       "      <th>black_id</th>\n",
       "      <td>19629</td>\n",
       "      <td>9331</td>\n",
       "      <td>king5891</td>\n",
       "      <td>44</td>\n",
       "    </tr>\n",
       "    <tr>\n",
       "      <th>moves</th>\n",
       "      <td>19629</td>\n",
       "      <td>18920</td>\n",
       "      <td>e4 e5</td>\n",
       "      <td>27</td>\n",
       "    </tr>\n",
       "    <tr>\n",
       "      <th>opening_eco</th>\n",
       "      <td>19629</td>\n",
       "      <td>365</td>\n",
       "      <td>A00</td>\n",
       "      <td>992</td>\n",
       "    </tr>\n",
       "    <tr>\n",
       "      <th>opening_name</th>\n",
       "      <td>19629</td>\n",
       "      <td>1477</td>\n",
       "      <td>Van't Kruijs Opening</td>\n",
       "      <td>363</td>\n",
       "    </tr>\n",
       "  </tbody>\n",
       "</table>\n",
       "</div>"
      ],
      "text/plain": [
       "                count unique                   top   freq\n",
       "id              19629  19113              WbTSc5pg      2\n",
       "rated           19629      2                  True  15817\n",
       "victory_status  19629      4                resign  10926\n",
       "winner          19629      3                 white   9792\n",
       "increment_code  19629    400                  10+0   7563\n",
       "white_id        19629   9438                 bleda     48\n",
       "black_id        19629   9331              king5891     44\n",
       "moves           19629  18920                 e4 e5     27\n",
       "opening_eco     19629    365                   A00    992\n",
       "opening_name    19629   1477  Van't Kruijs Opening    363"
      ]
     },
     "execution_count": 9,
     "metadata": {},
     "output_type": "execute_result"
    }
   ],
   "source": [
    "df.describe(exclude=np.number).T"
   ]
  },
  {
   "cell_type": "markdown",
   "id": "57f7df50",
   "metadata": {},
   "source": [
    "1. ID:\n",
    "\n",
    "There are 19,629 unique game IDs (id), out of which 19113 are unique. This suggests that some games might have occurred multiple times or have duplicate entries.\n",
    "\n",
    "2. Game Characteristics:\n",
    "\n",
    "All games in the dataset are rated (rated), with 15,817 of them being classified as \"TRUE\".\n",
    "There are four distinct victory_status categories, with \"resign\" being the most common, occurring 10,926 times.\n",
    "The winner column indicates the outcome of the game, with \"white\" winning in 9,792 games.\n",
    "The increment_code column indicates the time control used in the game, with \"10+0\" being the most common, occurring 7,563 times.\n",
    "The dataset contains 19,629 moves (moves), with \"e4 e5\" being the most common move sequence, appearing 27 times.\n",
    "\n",
    "3. Players and Openings:\n",
    "\n",
    "There are a total of 9,438 unique white players (white_id) and 9,331 unique black players (black_id) in the dataset.\n",
    "The opening_eco column contains 365 unique values, with \"A00\" being the most common ECO code, occurring 992 times.\n",
    "The opening_name column contains 1,477 unique opening names, with \"Van't Kruijs Opening\" being the most common, appearing 363 times."
   ]
  },
  {
   "cell_type": "markdown",
   "id": "00be5bd6",
   "metadata": {},
   "source": [
    "## 1.1 General trend of white player vs black player\n"
   ]
  },
  {
   "cell_type": "code",
   "execution_count": 10,
   "id": "b7e3febd",
   "metadata": {},
   "outputs": [
    {
     "name": "stdout",
     "output_type": "stream",
     "text": [
      "General Trends of 'White' Players vs. 'Black' Players:\n",
      "Average White Rating: 1633.7576593137255\n",
      "Average Black Rating: 1637.6668909070524\n",
      "Average White Turns: 57.75888480392157\n",
      "Average Black Turns: 60.72698733041821\n",
      "Average White Match Duration: 853283.8910334967\n",
      "Average Black Match Duration: 835243.9871061778\n",
      "Distribution of Winners: white    9792\n",
      "black    8919\n",
      "draw      918\n",
      "Name: winner, dtype: int64\n"
     ]
    }
   ],
   "source": [
    "white_players = df[df['winner']=='white']\n",
    "black_players = df[df['winner']=='black']\n",
    "\n",
    "avg_white_rating = white_players['white_rating'].mean()\n",
    "avg_black_rating = black_players['black_rating'].mean()\n",
    "\n",
    "avg_white_turns = white_players['turns'].mean()\n",
    "avg_black_turns = black_players['turns'].mean()\n",
    "\n",
    "avg_white_duration = (white_players['last_move_at']-white_players['created_at']).mean()\n",
    "avg_black_duration = (black_players['last_move_at']-black_players['created_at']).mean()\n",
    "\n",
    "winner_distribution = df['winner'].value_counts()\n",
    "\n",
    "\n",
    "print(\"General Trends of 'White' Players vs. 'Black' Players:\")\n",
    "print(\"Average White Rating:\", avg_white_rating)\n",
    "print(\"Average Black Rating:\", avg_black_rating)\n",
    "print(\"Average White Turns:\", avg_white_turns)\n",
    "print(\"Average Black Turns:\", avg_black_turns)\n",
    "print(\"Average White Match Duration:\", avg_white_duration)\n",
    "print(\"Average Black Match Duration:\", avg_black_duration)\n",
    "print(\"Distribution of Winners:\", winner_distribution)"
   ]
  },
  {
   "cell_type": "markdown",
   "id": "60e7e906",
   "metadata": {},
   "source": [
    "## 1.2 Trends of Winners with Respect to Turns and Match Time\n"
   ]
  },
  {
   "cell_type": "code",
   "execution_count": 11,
   "id": "b0f6ffcf",
   "metadata": {},
   "outputs": [
    {
     "name": "stdout",
     "output_type": "stream",
     "text": [
      "\n",
      "Trends of Winners with Respect to Turns and Match Time:\n",
      "Correlation between Number of Turns and Winner:\n",
      "winner\n",
      "black    60.726987\n",
      "draw     86.648148\n",
      "white    57.758885\n",
      "Name: turns, dtype: float64\n",
      "Correlation between Match Duration and Winner:\n",
      "winner\n",
      "black    8.352440e+05\n",
      "draw     1.379071e+06\n",
      "white    8.532839e+05\n",
      "Name: match_duration, dtype: float64\n"
     ]
    }
   ],
   "source": [
    "turns_winner_correlation = df.groupby('winner')['turns'].mean()\n",
    "\n",
    "df['match_duration'] = df['last_move_at'] - df['created_at']\n",
    "match_duration_winner_correlation = df.groupby('winner')['match_duration'].mean()\n",
    "\n",
    "print(\"\\nTrends of Winners with Respect to Turns and Match Time:\")\n",
    "print(\"Correlation between Number of Turns and Winner:\")\n",
    "print(turns_winner_correlation)\n",
    "print(\"Correlation between Match Duration and Winner:\")\n",
    "print(match_duration_winner_correlation)"
   ]
  },
  {
   "cell_type": "markdown",
   "id": "f6fce5be",
   "metadata": {},
   "source": [
    "## 1.3 Openings with Respect to Rank and Color\n"
   ]
  },
  {
   "cell_type": "code",
   "execution_count": 12,
   "id": "153ea244",
   "metadata": {},
   "outputs": [
    {
     "name": "stdout",
     "output_type": "stream",
     "text": [
      "\n",
      "Openings with Respect to Rank and Color:\n",
      "Top Openings for White Players:\n",
      "Scandinavian Defense: Mieses-Kotroc Variation    159\n",
      "Sicilian Defense                                 147\n",
      "Scotch Game                                      141\n",
      "French Defense: Knight Variation                 133\n",
      "Van't Kruijs Opening                             123\n",
      "Name: opening_name, dtype: int64\n",
      "Top Openings for Black Players:\n",
      "Van't Kruijs Opening                224\n",
      "Sicilian Defense                    191\n",
      "Sicilian Defense: Bowdler Attack    162\n",
      "Scandinavian Defense                122\n",
      "French Defense: Knight Variation    118\n",
      "Name: opening_name, dtype: int64\n",
      "Correlation between Opening and Player's Rank:\n",
      "                                      white_rating  black_rating\n",
      "opening_name                                                    \n",
      "Alekhine Defense                       1447.720930   1378.232558\n",
      "Alekhine Defense #2                    1533.333333   1460.333333\n",
      "Alekhine Defense #3                    1414.000000   1557.000000\n",
      "Alekhine Defense: Balogh Variation     1586.000000   2133.000000\n",
      "Alekhine Defense: Brooklyn Variation   1406.500000   1267.000000\n",
      "...                                            ...           ...\n",
      "Zukertort Opening: Slav Invitation     1768.400000   1605.600000\n",
      "Zukertort Opening: Tennison Gambit     1580.804878   1564.365854\n",
      "Zukertort Opening: The Walrus          1967.000000   1152.000000\n",
      "Zukertort Opening: Vos Gambit          1292.333333   1219.000000\n",
      "Zukertort Opening: Wade Defense        1614.000000   1587.000000\n",
      "\n",
      "[1477 rows x 2 columns]\n"
     ]
    },
    {
     "name": "stderr",
     "output_type": "stream",
     "text": [
      "C:\\Users\\sobhr\\AppData\\Local\\Temp\\ipykernel_16896\\2188495737.py:4: FutureWarning: Indexing with multiple keys (implicitly converted to a tuple of keys) will be deprecated, use a list instead.\n",
      "  opening_rank_correlation = df.groupby('opening_name')['white_rating', 'black_rating'].mean()\n"
     ]
    }
   ],
   "source": [
    "top_openings_white = df[df['winner'] == 'white']['opening_name'].value_counts().head(5)\n",
    "top_openings_black = df[df['winner'] == 'black']['opening_name'].value_counts().head(5)\n",
    "\n",
    "opening_rank_correlation = df.groupby('opening_name')['white_rating', 'black_rating'].mean()\n",
    "\n",
    "print(\"\\nOpenings with Respect to Rank and Color:\")\n",
    "print(\"Top Openings for White Players:\")\n",
    "print(top_openings_white)\n",
    "print(\"Top Openings for Black Players:\")\n",
    "print(top_openings_black)\n",
    "print(\"Correlation between Opening and Player's Rank:\")\n",
    "print(opening_rank_correlation)"
   ]
  },
  {
   "cell_type": "markdown",
   "id": "42a1a29e",
   "metadata": {},
   "source": [
    "## Data Visualization"
   ]
  },
  {
   "cell_type": "code",
   "execution_count": 13,
   "id": "1a21781a",
   "metadata": {},
   "outputs": [],
   "source": [
    "# We will drop some Non-contributing columns for visualization and modelling purposes\n",
    "\n",
    "df_copy = df.drop(['id','white_id', 'black_id','created_at','last_move_at','increment_code','moves','match_duration','opening_eco', 'opening_name'],axis=1)"
   ]
  },
  {
   "cell_type": "code",
   "execution_count": 14,
   "id": "33b48378",
   "metadata": {},
   "outputs": [
    {
     "data": {
      "text/html": [
       "<div>\n",
       "<style scoped>\n",
       "    .dataframe tbody tr th:only-of-type {\n",
       "        vertical-align: middle;\n",
       "    }\n",
       "\n",
       "    .dataframe tbody tr th {\n",
       "        vertical-align: top;\n",
       "    }\n",
       "\n",
       "    .dataframe thead th {\n",
       "        text-align: right;\n",
       "    }\n",
       "</style>\n",
       "<table border=\"1\" class=\"dataframe\">\n",
       "  <thead>\n",
       "    <tr style=\"text-align: right;\">\n",
       "      <th></th>\n",
       "      <th>rated</th>\n",
       "      <th>turns</th>\n",
       "      <th>victory_status</th>\n",
       "      <th>winner</th>\n",
       "      <th>white_rating</th>\n",
       "      <th>black_rating</th>\n",
       "      <th>opening_ply</th>\n",
       "    </tr>\n",
       "  </thead>\n",
       "  <tbody>\n",
       "    <tr>\n",
       "      <th>0</th>\n",
       "      <td>False</td>\n",
       "      <td>13</td>\n",
       "      <td>outoftime</td>\n",
       "      <td>white</td>\n",
       "      <td>1500</td>\n",
       "      <td>1191</td>\n",
       "      <td>5</td>\n",
       "    </tr>\n",
       "    <tr>\n",
       "      <th>1</th>\n",
       "      <td>True</td>\n",
       "      <td>16</td>\n",
       "      <td>resign</td>\n",
       "      <td>black</td>\n",
       "      <td>1322</td>\n",
       "      <td>1261</td>\n",
       "      <td>4</td>\n",
       "    </tr>\n",
       "    <tr>\n",
       "      <th>2</th>\n",
       "      <td>True</td>\n",
       "      <td>61</td>\n",
       "      <td>mate</td>\n",
       "      <td>white</td>\n",
       "      <td>1496</td>\n",
       "      <td>1500</td>\n",
       "      <td>3</td>\n",
       "    </tr>\n",
       "    <tr>\n",
       "      <th>3</th>\n",
       "      <td>True</td>\n",
       "      <td>61</td>\n",
       "      <td>mate</td>\n",
       "      <td>white</td>\n",
       "      <td>1439</td>\n",
       "      <td>1454</td>\n",
       "      <td>3</td>\n",
       "    </tr>\n",
       "    <tr>\n",
       "      <th>4</th>\n",
       "      <td>True</td>\n",
       "      <td>95</td>\n",
       "      <td>mate</td>\n",
       "      <td>white</td>\n",
       "      <td>1523</td>\n",
       "      <td>1469</td>\n",
       "      <td>5</td>\n",
       "    </tr>\n",
       "    <tr>\n",
       "      <th>...</th>\n",
       "      <td>...</td>\n",
       "      <td>...</td>\n",
       "      <td>...</td>\n",
       "      <td>...</td>\n",
       "      <td>...</td>\n",
       "      <td>...</td>\n",
       "      <td>...</td>\n",
       "    </tr>\n",
       "    <tr>\n",
       "      <th>20053</th>\n",
       "      <td>True</td>\n",
       "      <td>24</td>\n",
       "      <td>resign</td>\n",
       "      <td>white</td>\n",
       "      <td>1691</td>\n",
       "      <td>1220</td>\n",
       "      <td>2</td>\n",
       "    </tr>\n",
       "    <tr>\n",
       "      <th>20054</th>\n",
       "      <td>True</td>\n",
       "      <td>82</td>\n",
       "      <td>mate</td>\n",
       "      <td>black</td>\n",
       "      <td>1233</td>\n",
       "      <td>1196</td>\n",
       "      <td>2</td>\n",
       "    </tr>\n",
       "    <tr>\n",
       "      <th>20055</th>\n",
       "      <td>True</td>\n",
       "      <td>35</td>\n",
       "      <td>mate</td>\n",
       "      <td>white</td>\n",
       "      <td>1219</td>\n",
       "      <td>1286</td>\n",
       "      <td>3</td>\n",
       "    </tr>\n",
       "    <tr>\n",
       "      <th>20056</th>\n",
       "      <td>True</td>\n",
       "      <td>109</td>\n",
       "      <td>resign</td>\n",
       "      <td>white</td>\n",
       "      <td>1360</td>\n",
       "      <td>1227</td>\n",
       "      <td>4</td>\n",
       "    </tr>\n",
       "    <tr>\n",
       "      <th>20057</th>\n",
       "      <td>True</td>\n",
       "      <td>78</td>\n",
       "      <td>mate</td>\n",
       "      <td>black</td>\n",
       "      <td>1235</td>\n",
       "      <td>1339</td>\n",
       "      <td>3</td>\n",
       "    </tr>\n",
       "  </tbody>\n",
       "</table>\n",
       "<p>19629 rows × 7 columns</p>\n",
       "</div>"
      ],
      "text/plain": [
       "       rated  turns victory_status winner  white_rating  black_rating  \\\n",
       "0      False     13      outoftime  white          1500          1191   \n",
       "1       True     16         resign  black          1322          1261   \n",
       "2       True     61           mate  white          1496          1500   \n",
       "3       True     61           mate  white          1439          1454   \n",
       "4       True     95           mate  white          1523          1469   \n",
       "...      ...    ...            ...    ...           ...           ...   \n",
       "20053   True     24         resign  white          1691          1220   \n",
       "20054   True     82           mate  black          1233          1196   \n",
       "20055   True     35           mate  white          1219          1286   \n",
       "20056   True    109         resign  white          1360          1227   \n",
       "20057   True     78           mate  black          1235          1339   \n",
       "\n",
       "       opening_ply  \n",
       "0                5  \n",
       "1                4  \n",
       "2                3  \n",
       "3                3  \n",
       "4                5  \n",
       "...            ...  \n",
       "20053            2  \n",
       "20054            2  \n",
       "20055            3  \n",
       "20056            4  \n",
       "20057            3  \n",
       "\n",
       "[19629 rows x 7 columns]"
      ]
     },
     "execution_count": 14,
     "metadata": {},
     "output_type": "execute_result"
    }
   ],
   "source": [
    "df_copy"
   ]
  },
  {
   "cell_type": "code",
   "execution_count": 15,
   "id": "6b127db6",
   "metadata": {},
   "outputs": [
    {
     "data": {
      "text/plain": [
       "(Index(['turns', 'white_rating', 'black_rating', 'opening_ply'], dtype='object'),\n",
       " Index(['rated', 'victory_status', 'winner'], dtype='object'))"
      ]
     },
     "execution_count": 15,
     "metadata": {},
     "output_type": "execute_result"
    }
   ],
   "source": [
    "# Seperating numeric data and categoric data\n",
    "\n",
    "numeric_columns = df_copy.select_dtypes(include=np.number).columns\n",
    "categoric_columns = df_copy.select_dtypes(exclude=np.number).columns\n",
    "\n",
    "numeric_columns,categoric_columns"
   ]
  },
  {
   "cell_type": "markdown",
   "id": "9b5ffb7a",
   "metadata": {},
   "source": [
    "### Uni - Variante - Analysis"
   ]
  },
  {
   "cell_type": "code",
   "execution_count": 16,
   "id": "2a557e88",
   "metadata": {
    "scrolled": false
   },
   "outputs": [
    {
     "data": {
      "image/png": "[encoded data removed]",
      "text/plain": [
       "<Figure size 1100x400 with 1 Axes>"
      ]
     },
     "metadata": {},
     "output_type": "display_data"
    },
    {
     "data": {
      "image/png": "[encoded data removed]",
      "text/plain": [
       "<Figure size 1100x400 with 1 Axes>"
      ]
     },
     "metadata": {},
     "output_type": "display_data"
    },
    {
     "data": {
      "image/png": "[encoded data removed]",
      "text/plain": [
       "<Figure size 1100x400 with 1 Axes>"
      ]
     },
     "metadata": {},
     "output_type": "display_data"
    },
    {
     "data": {
      "image/png": "[encoded data removed]",
      "text/plain": [
       "<Figure size 1100x400 with 1 Axes>"
      ]
     },
     "metadata": {},
     "output_type": "display_data"
    }
   ],
   "source": [
    "# Numerical data\n",
    "\n",
    "for col in numeric_columns:\n",
    "    plt.figure(figsize=(11,4))\n",
    "    sns.boxplot(x=col,data=df_copy)\n",
    "    plt.show()"
   ]
  },
  {
   "cell_type": "code",
   "execution_count": 17,
   "id": "7a418254",
   "metadata": {
    "scrolled": false
   },
   "outputs": [
    {
     "data": {
      "image/png": "[encoded data removed]",
      "text/plain": [
       "<Figure size 640x480 with 1 Axes>"
      ]
     },
     "metadata": {},
     "output_type": "display_data"
    },
    {
     "data": {
      "image/png": "[encoded data removed]",
      "text/plain": [
       "<Figure size 640x480 with 1 Axes>"
      ]
     },
     "metadata": {},
     "output_type": "display_data"
    },
    {
     "data": {
      "image/png": "[encoded data removed]",
      "text/plain": [
       "<Figure size 640x480 with 1 Axes>"
      ]
     },
     "metadata": {},
     "output_type": "display_data"
    }
   ],
   "source": [
    "# Categorical data\n",
    "\n",
    "for col in categoric_columns:\n",
    "    df[col].value_counts().plot(kind='bar', title=f'{col} Distribution')\n",
    "    plt.xlabel(col)\n",
    "    plt.ylabel('Frequency')\n",
    "    plt.show()"
   ]
  },
  {
   "cell_type": "markdown",
   "id": "79844f53",
   "metadata": {},
   "source": [
    "### Bi - Variante - Analysis "
   ]
  },
  {
   "cell_type": "code",
   "execution_count": 18,
   "id": "c5d67f53",
   "metadata": {
    "scrolled": false
   },
   "outputs": [
    {
     "data": {
      "image/png": "[encoded data removed]",
      "text/plain": [
       "<Figure size 1100x600 with 1 Axes>"
      ]
     },
     "metadata": {},
     "output_type": "display_data"
    },
    {
     "data": {
      "image/png": "[encoded data removed]",
      "text/plain": [
       "<Figure size 1100x600 with 1 Axes>"
      ]
     },
     "metadata": {},
     "output_type": "display_data"
    },
    {
     "data": {
      "image/png": "[encoded data removed]",
      "text/plain": [
       "<Figure size 1100x600 with 1 Axes>"
      ]
     },
     "metadata": {},
     "output_type": "display_data"
    },
    {
     "data": {
      "image/png": "[encoded data removed]",
      "text/plain": [
       "<Figure size 1100x600 with 1 Axes>"
      ]
     },
     "metadata": {},
     "output_type": "display_data"
    }
   ],
   "source": [
    "# Numerical vs Categorical\n",
    "\n",
    "for col in numeric_columns:\n",
    "    plt.figure(figsize=(11,6))\n",
    "    sns.barplot(x='winner',y=col,data=df_copy, palette=\"mako\")\n",
    "    plt.show()"
   ]
  },
  {
   "cell_type": "code",
   "execution_count": 19,
   "id": "b0fc9aca",
   "metadata": {
    "scrolled": false
   },
   "outputs": [
    {
     "data": {
      "image/png": "[encoded data removed]",
      "text/plain": [
       "<Figure size 1800x600 with 1 Axes>"
      ]
     },
     "metadata": {},
     "output_type": "display_data"
    },
    {
     "data": {
      "image/png": "[encoded data removed]",
      "text/plain": [
       "<Figure size 1800x600 with 1 Axes>"
      ]
     },
     "metadata": {},
     "output_type": "display_data"
    },
    {
     "data": {
      "image/png": "[encoded data removed]",
      "text/plain": [
       "<Figure size 1800x600 with 1 Axes>"
      ]
     },
     "metadata": {},
     "output_type": "display_data"
    }
   ],
   "source": [
    "# Categorical vs Categorical\n",
    "\n",
    "for col in categoric_columns:\n",
    "    plt.figure(figsize=(18,6))\n",
    "    sns.countplot(x=col, hue='winner', data=df_copy, palette=\"mako\")\n",
    "    plt.show()"
   ]
  },
  {
   "cell_type": "markdown",
   "id": "ed8ea64b",
   "metadata": {},
   "source": [
    "### Multi - Variante - Analysis"
   ]
  },
  {
   "cell_type": "code",
   "execution_count": 20,
   "id": "5ca7d3ae",
   "metadata": {},
   "outputs": [
    {
     "name": "stderr",
     "output_type": "stream",
     "text": [
      "C:\\Users\\sobhr\\AppData\\Local\\Temp\\ipykernel_16896\\1316917814.py:2: FutureWarning: The default value of numeric_only in DataFrame.corr is deprecated. In a future version, it will default to False. Select only valid columns or specify the value of numeric_only to silence this warning.\n",
      "  sns.heatmap(df_copy.corr(),annot=True,fmt='.2f',linewidth=.2)\n"
     ]
    },
    {
     "data": {
      "image/png": "[encoded data removed]",
      "text/plain": [
       "<Figure size 1100x600 with 2 Axes>"
      ]
     },
     "metadata": {},
     "output_type": "display_data"
    }
   ],
   "source": [
    "plt.figure(figsize=[11,6])\n",
    "sns.heatmap(df_copy.corr(),annot=True,fmt='.2f',linewidth=.2)\n",
    "plt.show()"
   ]
  },
  {
   "cell_type": "markdown",
   "id": "98ca7d8d",
   "metadata": {},
   "source": [
    "#### Univariate\n",
    "- Most of the Numerical data has outiers and is mostly right skewed.\n",
    "- Frequency of True in rated column is highest.\n",
    "- Frequency of Resign in victory status column is highest followed by Mate.\n",
    "- Frequency of White in winner column is slightly higher as compared to black.\n",
    "\n",
    "#### Bivariate\n",
    "- Games whose result is Draw has highest number of turns as compared to white and black winner.\n",
    "- White rating have higher number of white winner and draw games.\n",
    "- Black rating have higher number of black winner and draw games.\n",
    "- Opening ply has highest number of draw games.\n",
    "- Outoftime has higher number of black winner while resign and mate has higher number of white winner.\n",
    "\n",
    "#### Multivariate\n",
    "- Black rating and White rating are moderately correlated.\n",
    "- while other columns are not so highly correlated\n",
    "- So there might not be an issue of multicolinearity in the dataset."
   ]
  },
  {
   "cell_type": "code",
   "execution_count": 21,
   "id": "764990d4",
   "metadata": {},
   "outputs": [
    {
     "name": "stdout",
     "output_type": "stream",
     "text": [
      "==================================================\n",
      "Unique Values of RATED\n",
      "[False  True]\n",
      "==================================================\n",
      "==================================================\n",
      "Unique Values of CREATED_AT\n",
      "[1.50421000e+12 1.50413000e+12 1.50411000e+12 ... 1.49969788e+12\n",
      " 1.49969613e+12 1.49964315e+12]\n",
      "==================================================\n",
      "==================================================\n",
      "Unique Values of LAST_MOVE_AT\n",
      "[1.50421000e+12 1.50413000e+12 1.50411000e+12 ... 1.49969805e+12\n",
      " 1.49969707e+12 1.49964389e+12]\n",
      "==================================================\n",
      "==================================================\n",
      "Unique Values of TURNS\n",
      "[ 13  16  61  95   5  33   9  66 119  39  38  60  31  43  52 101  25  14\n",
      "   3  17  36  69  54  53  64  21  11  19  28  22  37  34  32  71  30  41\n",
      "  49   7  35   8  44  29  40  57  78  62  87  50 131  48  47  51  58 114\n",
      "  20  85 113  75 135  81  46  70  91 137  18 111  90  59  26  23 118 120\n",
      "  24   2  97  12  72 156  77  65  73 125  76  63 107 100  80 105 144 158\n",
      " 117 110 178 136 124  96  10 106  15  42 159  74 112 104 150  88  55 103\n",
      " 177  82  99  67   6 115  83  89 116  27 102  45  98 108  92  56 123 129\n",
      "   4 163 130 121  94  79 148 195 122 128  84  86  93 161 133  68 153 154\n",
      " 160 141 132 204 140 168 127 109 174 157 142 143 170   1 138 171 145 151\n",
      " 179 149 173 208 139 134 169 155 164 147 126 146 190 167 255 210 176 172\n",
      " 188 152 182 184 162 221 189 166 196 165 193 175 349 198 218 205 207 216\n",
      " 206 200 181 180 183 222 209 185 259 226 212 187 201]\n",
      "==================================================\n",
      "==================================================\n",
      "Unique Values of VICTORY_STATUS\n",
      "['outoftime' 'resign' 'mate' 'draw']\n",
      "==================================================\n",
      "==================================================\n",
      "Unique Values of WINNER\n",
      "['white' 'black' 'draw']\n",
      "==================================================\n",
      "==================================================\n",
      "Unique Values of INCREMENT_CODE\n",
      "['15+2' '5+10' '20+0' '30+3' '10+0' '15+30' '15+0' '20+60' '5+40' '8+0'\n",
      " '15+15' '15+16' '11+0' '30+60' '15+5' '10+10' '15+3' '18+0' '30+30'\n",
      " '20+25' '5+5' '30+0' '40+40' '16+0' '6+10' '8+10' '8+12' '7+12' '15+10'\n",
      " '20+5' '20+10' '45+0' '5+8' '30+2' '25+0' '10+2' '7+2' '25+25' '7+8'\n",
      " '6+6' '10+4' '12+0' '15+1' '2+10' '9+0' '10+9' '6+7' '30+10' '30+15'\n",
      " '10+3' '45+30' '9+2' '7+3' '6+5' '25+5' '5+7' '8+2' '20+8' '30+5' '25+15'\n",
      " '15+7' '8+8' '5+9' '16+7' '10+7' '7+5' '40+20' '10+5' '11+5' '10+15'\n",
      " '180+0' '17+5' '8+5' '3+8' '60+120' '90+120' '15+8' '9+1' '9+3' '2+15'\n",
      " '10+1' '5+12' '60+10' '5+60' '8+15' '30+25' '12+1' '14+0' '60+20' '10+8'\n",
      " '20+3' '14+12' '7+7' '60+0' '45+45' '4+15' '5+6' '180+180' '8+3' '4+6'\n",
      " '10+25' '3+10' '7+4' '6+3' '5+15' '45+15' '15+20' '6+8' '6+9' '14+8'\n",
      " '6+4' '15+4' '9+20' '20+15' '20+2' '9+10' '8+7' '13+1' '150+180' '3+12'\n",
      " '7+10' '10+60' '5+30' '20+30' '14+10' '25+10' '8+1' '19+0' '9+12' '20+1'\n",
      " '0+25' '0+15' '15+6' '8+6' '10+6' '25+8' '15+14' '20+20' '13+10' '3+9'\n",
      " '17+11' '12+5' '12+2' '7+25' '20+7' '12+6' '25+30' '15+45' '25+3' '17+1'\n",
      " '30+1' '17+8' '17+3' '45+10' '8+25' '19+19' '12+8' '9+9' '15+60' '5+20'\n",
      " '30+6' '12+12' '30+12' '25+2' '40+10' '16+2' '90+0' '30+11' '4+10'\n",
      " '12+13' '11+8' '60+4' '10+30' '60+3' '20+6' '1+30' '90+30' '4+8' '40+0'\n",
      " '17+2' '180+8' '12+10' '16+1' '1+10' '7+14' '3+15' '60+60' '13+3' '45+4'\n",
      " '45+5' '10+180' '120+0' '30+7' '14+4' '13+2' '6+20' '180+60' '60+30'\n",
      " '40+30' '30+35' '10+11' '1+12' '11+11' '18+5' '8+9' '15+11' '9+5' '19+17'\n",
      " '14+14' '17+15' '7+6' '40+2' '10+20' '12+9' '14+17' '14+20' '10+13'\n",
      " '30+8' '30+9' '30+4' '30+20' '5+180' '7+9' '5+13' '30+45' '25+4' '25+1'\n",
      " '12+4' '11+4' '13+0' '60+5' '9+11' '1+15' '12+3' '2+16' '13+5' '20+4'\n",
      " '40+1' '17+16' '11+10' '1+19' '40+60' '7+35' '16+10' '9+17' '15+12'\n",
      " '10+12' '35+10' '18+20' '6+15' '19+20' '11+1' '30+150' '35+3' '17+0'\n",
      " '40+15' '14+6' '20+40' '13+14' '8+4' '180+25' '2+20' '12+11' '13+13'\n",
      " '16+8' '60+7' '45+1' '20+11' '150+8' '20+180' '90+5' '9+6' '45+8' '17+90'\n",
      " '18+19' '0+12' '9+4' '35+0' '7+15' '1+25' '11+3' '17+13' '9+8' '13+12'\n",
      " '16+4' '19+8' '11+7' '0+180' '14+5' '19+2' '10+35' '4+7' '6+12' '19+30'\n",
      " '12+20' '29+30' '15+9' '120+1' '180+5' '12+7' '8+180' '35+15' '17+17'\n",
      " '150+60' '18+18' '18+10' '150+3' '1+13' '0+16' '5+17' '5+25' '25+17'\n",
      " '18+8' '180+45' '1+45' '10+45' '20+9' '25+9' '13+20' '1+20' '0+40' '0+20'\n",
      " '14+9' '40+9' '25+20' '180+150' '180+120' '20+12' '30+16' '20+120' '2+40'\n",
      " '19+5' '18+15' '19+45' '11+2' '5+21' '19+4' '4+180' '5+11' '60+13' '40+8'\n",
      " '4+18' '4+12' '21+0' '90+8' '13+7' '9+7' '14+2' '20+13' '19+3' '60+15'\n",
      " '3+35' '7+11' '2+12' '8+30' '120+10' '150+0' '5+14' '16+20' '15+25'\n",
      " '120+180' '60+40' '180+3' '10+40' '30+40' '3+30' '2+9' '7+18' '35+2'\n",
      " '8+11' '12+15' '1+18' '20+90' '4+20' '35+1' '7+30' '25+12' '45+2' '13+15'\n",
      " '14+1' '25+6' '16+3' '0+13' '60+1' '11+9' '19+18' '120+5' '9+15' '0+30'\n",
      " '6+30' '35+35' '3+20' '4+9' '10+14' '35+8' '13+40' '16+15' '60+180'\n",
      " '8+45' '14+15']\n",
      "==================================================\n",
      "==================================================\n",
      "Unique Values of WHITE_ID\n",
      "['bourgris' 'a-00' 'ischia' ... 'samael88' 'belcolt' 'marcodisogno']\n",
      "==================================================\n",
      "==================================================\n",
      "Unique Values of WHITE_RATING\n",
      "[1500 1322 1496 ...  860  929  880]\n",
      "==================================================\n",
      "==================================================\n",
      "Unique Values of BLACK_ID\n",
      "['a-00' 'skinnerua' 'adivanov2009' ... 'farrukhasomiddinov' 'schaaksmurf3'\n",
      " 'ffbob']\n",
      "==================================================\n",
      "==================================================\n",
      "Unique Values of BLACK_RATING\n",
      "[1191 1261 1500 ...  840  857  860]\n",
      "==================================================\n",
      "==================================================\n",
      "Unique Values of MOVES\n",
      "['d4 d5 c4 c6 cxd5 e6 dxe6 fxe6 Nf3 Bb4+ Nc3 Ba5 Bf4'\n",
      " 'd4 Nc6 e4 e5 f4 f6 dxe5 fxe5 fxe5 Nxe5 Qd4 Nc6 Qe5+ Nxe5 c4 Bb4+'\n",
      " 'e4 e5 d3 d6 Be3 c6 Be2 b5 Nd2 a5 a4 c5 axb5 Nc6 bxc6 Ra6 Nc4 a4 c3 a3 Nxa3 Rxa3 Rxa3 c4 dxc4 d5 cxd5 Qxd5 exd5 Be6 Ra8+ Ke7 Bc5+ Kf6 Bxf8 Kg6 Bxg7 Kxg7 dxe6 Kh6 exf7 Nf6 Rxh8 Nh5 Bxh5 Kg5 Rxh7 Kf5 Qf3+ Ke6 Bg4+ Kd6 Rh6+ Kc5 Qe3+ Kb5 c4+ Kb4 Qc3+ Ka4 Bd1#'\n",
      " ...\n",
      " 'd4 d5 Bf4 Nc6 e3 Nf6 c3 e6 Nf3 Be7 Bd3 O-O Nbd2 b6 Ne5 Nxe5 Bxe5 Nd7 Bxh7+ Kxh7 Qh5+ Kg8 Nf3 f6 Bf4 g5 Qg6+ Kh8 Nh4 Qe8 Qh6+ Kg8 Ng6 Kf7 Qh7#'\n",
      " 'e4 d6 d4 Nf6 e5 dxe5 dxe5 Qxd1+ Kxd1 Nd5 c4 Nb6 c5 Nd5 Bc4 e6 Bxd5 exd5 Nc3 d4 Ne4 Bf5 f3 Nd7 b4 Nxe5 Bf4 f6 g4 Bxe4 fxe4 c6 Bxe5 fxe5 Nf3 Be7 Nxe5 Bf6 Nc4 O-O-O h4 h6 e5 b5 cxb6 Be7 bxa7 Kc7 a3 Rhf8 Kd2 Rf4 Rag1 d3 h5 Rf2+ Ke3 Re2+ Kf4 Rf8+ Kg3 Re3+ Nxe3 d2 Rd1 Bg5 Nf5 Kb7 Rhf1 Kxa7 Nd6 Rxf1 Rxf1 Kb6 e6 Kc7 Nf5 Kc8 e7 Kd7 a4 Bxe7 Nxe7 Kxe7 a5 Kd7 Rd1 Kc7 Rxd2 Kb7 Ra2 Ka6 Kf4 Kb5 a6 Kb6 a7 Kb5 a8=Q Kxb4 Qxc6 g5+ hxg6 Kb3 Rc2 Kb4 Qb7+ Ka3 Rc8'\n",
      " 'd4 d5 Bf4 Na6 e3 e6 c3 Nf6 Nf3 Bd7 Nbd2 b5 Bd3 Qc8 e4 b4 e5 Ne4 Nxe4 dxe4 Bxe4 bxc3 Bxa8 Qxa8 bxc3 Ba3 Rb1 c5 Qd3 O-O Qxa6 Bc6 Qxa3 Bxf3 gxf3 Qxf3 Qxa7 Qxh1+ Ke2 Qxb1 Qxc5 Qc2+ Ke3 Qxa2 Qb4 h6 c4 g5 Bg3 Qa8 c5 Rb8 Qc3 f5 f4 Qe4+ Kd2 Qg2+ Kd3 gxf4 Bxf4 Qf3+ Kc4 Qxf4 c6 Qf1+ Kc5 Rb1 Qg3+ Kf7 c7 Rc1+ Kd6 Qa6+ Kd7 Qb5+ Kd8 Qe8#']\n",
      "==================================================\n",
      "==================================================\n",
      "Unique Values of OPENING_ECO\n",
      "['D10' 'B00' 'C20' 'D02' 'C41' 'B27' 'D00' 'C50' 'B01' 'A00' 'C02' 'C00'\n",
      " 'C57' 'C55' 'A40' 'B20' 'A25' 'B21' 'D01' 'C45' 'D06' 'B52' 'D20' 'B06'\n",
      " 'A45' 'B77' 'A21' 'B70' 'B23' 'B76' 'C21' 'A80' 'A20' 'A04' 'C26' 'C44'\n",
      " 'E10' 'A41' 'C01' 'A10' 'C18' 'A47' 'C10' 'D80' 'D30' 'D41' 'A46' 'D31'\n",
      " 'C64' 'C24' 'A43' 'A08' 'B03' 'B29' 'B02' 'B13' 'B57' 'E20' 'E11' 'C40'\n",
      " 'C11' 'C28' 'B30' 'A56' 'C65' 'B90' 'B50' 'B51' 'E00' 'C70' 'B11' 'B22'\n",
      " 'B40' 'B31' 'B18' 'C61' 'C78' 'B10' 'C22' 'C54' 'C68' 'B12' 'C77' 'A42'\n",
      " 'C42' 'D07' 'B32' 'A22' 'C46' 'B07' 'A06' 'C60' 'A07' 'A02' 'C58' 'A03'\n",
      " 'B54' 'D03' 'C69' 'A31' 'D46' 'C34' 'C48' 'C47' 'B24' 'C67' 'E61' 'C53'\n",
      " 'C23' 'B96' 'A05' 'D92' 'A49' 'C37' 'A09' 'A01' 'C88' 'B34' 'C03' 'C33'\n",
      " 'A48' 'A11' 'A81' 'B05' 'B53' 'B08' 'C30' 'A15' 'B43' 'C07' 'A34' 'D08'\n",
      " 'A30' 'A13' 'D11' 'D50' 'A73' 'D35' 'D21' 'C15' 'B09' 'A52' 'E90' 'B15'\n",
      " 'D17' 'A65' 'B33' 'A67' 'C62' 'D94' 'D37' 'B17' 'E21' 'A99' 'A16' 'B41'\n",
      " 'D43' 'C66' 'E17' 'C79' 'A51' 'E30' 'C27' 'C29' 'A71' 'B94' 'B38' 'D04'\n",
      " 'B87' 'D12' 'E59' 'C91' 'E14' 'A28' 'C59' 'D05' 'D48' 'C49' 'B36' 'A35'\n",
      " 'D15' 'A27' 'B45' 'E34' 'D53' 'D70' 'C12' 'B56' 'E77' 'C25' 'A85' 'E71'\n",
      " 'C72' 'B25' 'B14' 'C05' 'C56' 'B35' 'A29' 'D32' 'B95' 'B28' 'B84' 'B46'\n",
      " 'B44' 'A53' 'D93' 'D60' 'B88' 'C74' 'B04' 'D25' 'C52' 'C14' 'B98' 'D26'\n",
      " 'B75' 'A38' 'B93' 'E44' 'E32' 'E73' 'E70' 'B86' 'B92' 'E76' 'A50' 'E24'\n",
      " 'D44' 'A84' 'D24' 'C36' 'D85' 'B42' 'E60' 'A17' 'C51' 'C43' 'C16' 'B91'\n",
      " 'B71' 'A39' 'E01' 'A60' 'E91' 'D55' 'D56' 'C35' 'D51' 'E81' 'E51' 'A33'\n",
      " 'C80' 'B72' 'B80' 'E38' 'E12' 'A58' 'B74' 'A36' 'C84' 'C92' 'E16' 'A44'\n",
      " 'C81' 'E54' 'E53' 'A57' 'B81' 'C89' 'D87' 'E92' 'C39' 'B78' 'C17' 'A97'\n",
      " 'E50' 'C31' 'E15' 'D45' 'D40' 'C63' 'B19' 'E40' 'D34' 'E64' 'A54' 'C83'\n",
      " 'E33' 'D14' 'E47' 'D74' 'C13' 'D91' 'E42' 'E56' 'E06' 'B47' 'E94' 'D52'\n",
      " 'E80' 'E67' 'A18' 'B58' 'A59' 'D47' 'B82' 'D81' 'A23' 'A82' 'C38' 'C71'\n",
      " 'D90' 'D38' 'B83' 'C09' 'C08' 'A83' 'E95' 'D58' 'D78' 'A12' 'C32' 'E97'\n",
      " 'E98' 'A70' 'C06' 'B39' 'E18' 'D95' 'D57' 'D22' 'B48' 'B73' 'E87' 'E52'\n",
      " 'D18' 'E46' 'A24' 'D59' 'A89' 'C94' 'E88' 'D16' 'B60' 'E72' 'A14' 'E63'\n",
      " 'A91' 'E03' 'D82' 'D86' 'D13' 'D36' 'B62' 'D76' 'C04' 'D77' 'E68' 'C90'\n",
      " 'E35' 'E27' 'E48' 'C75' 'D19']\n",
      "==================================================\n",
      "==================================================\n",
      "Unique Values of OPENING_NAME\n",
      "['Slav Defense: Exchange Variation'\n",
      " 'Nimzowitsch Defense: Kennedy Variation'\n",
      " \"King's Pawn Game: Leonardis Variation\" ...\n",
      " \"Queen's Indian Defense: Classical Variation |  Traditional Variation\"\n",
      " \"Queen's Gambit Declined: Slav |  Dutch Variation\"\n",
      " 'Sicilian Defense: Najdorf Variation |  Polugaevsky Variation']\n",
      "==================================================\n",
      "==================================================\n",
      "Unique Values of OPENING_PLY\n",
      "[ 5  4  3 10  6  1  9  2  8  7 17 11 12 13 18 19 15 16 14 28 20 22 24]\n",
      "==================================================\n",
      "==================================================\n",
      "Unique Values of MATCH_DURATION\n",
      "[       0. 10000000. 20000000. ...   172834.   946699.   736699.]\n",
      "==================================================\n"
     ]
    }
   ],
   "source": [
    "for col in df.columns[1:]:\n",
    "    print(\"==================================================\")\n",
    "    print(f\"Unique Values of {col.upper()}\")\n",
    "    print(df[col].unique())\n",
    "    print(\"==================================================\")"
   ]
  },
  {
   "cell_type": "code",
   "execution_count": 22,
   "id": "4e0879c0",
   "metadata": {},
   "outputs": [
    {
     "name": "stdout",
     "output_type": "stream",
     "text": [
      "==================================================\n",
      "Values Counts of rated\n",
      "True     15817\n",
      "False     3812\n",
      "Name: rated, dtype: int64\n",
      "==================================================\n",
      "==================================================\n",
      "Values Counts of created_at\n",
      "1.504210e+12    45\n",
      "1.504140e+12    39\n",
      "1.504200e+12    38\n",
      "1.503860e+12    37\n",
      "1.504050e+12    32\n",
      "                ..\n",
      "1.500224e+12     1\n",
      "1.500223e+12     1\n",
      "1.500222e+12     1\n",
      "1.500221e+12     1\n",
      "1.499643e+12     1\n",
      "Name: created_at, Length: 13151, dtype: int64\n",
      "==================================================\n",
      "==================================================\n",
      "Values Counts of last_move_at\n",
      "1.504210e+12    46\n",
      "1.504140e+12    39\n",
      "1.504200e+12    35\n",
      "1.503860e+12    34\n",
      "1.504040e+12    33\n",
      "                ..\n",
      "1.500133e+12     1\n",
      "1.500132e+12     1\n",
      "1.500112e+12     1\n",
      "1.500112e+12     1\n",
      "1.499644e+12     1\n",
      "Name: last_move_at, Length: 13186, dtype: int64\n",
      "==================================================\n",
      "==================================================\n",
      "Values Counts of turns\n",
      "45     298\n",
      "53     297\n",
      "41     293\n",
      "51     292\n",
      "57     292\n",
      "      ... \n",
      "221      1\n",
      "184      1\n",
      "208      1\n",
      "176      1\n",
      "201      1\n",
      "Name: turns, Length: 211, dtype: int64\n",
      "==================================================\n",
      "==================================================\n",
      "Values Counts of victory_status\n",
      "resign       10926\n",
      "mate          6188\n",
      "outoftime     1641\n",
      "draw           874\n",
      "Name: victory_status, dtype: int64\n",
      "==================================================\n",
      "==================================================\n",
      "Values Counts of winner\n",
      "white    9792\n",
      "black    8919\n",
      "draw      918\n",
      "Name: winner, dtype: int64\n",
      "==================================================\n",
      "==================================================\n",
      "Values Counts of increment_code\n",
      "10+0      7563\n",
      "15+0      1295\n",
      "15+15      832\n",
      "5+5        732\n",
      "5+8        687\n",
      "          ... \n",
      "10+35        1\n",
      "14+5         1\n",
      "90+120       1\n",
      "11+7         1\n",
      "14+15        1\n",
      "Name: increment_code, Length: 400, dtype: int64\n",
      "==================================================\n",
      "==================================================\n",
      "Values Counts of white_id\n",
      "bleda            48\n",
      "ssf7             48\n",
      "hassan1365416    44\n",
      "khelil           41\n",
      "1240100948       38\n",
      "                 ..\n",
      "emadjamea         1\n",
      "sostar            1\n",
      "sarojbatsa        1\n",
      "jones007          1\n",
      "marcodisogno      1\n",
      "Name: white_id, Length: 9438, dtype: int64\n",
      "==================================================\n",
      "==================================================\n",
      "Values Counts of white_rating\n",
      "1500    802\n",
      "1480     51\n",
      "1400     48\n",
      "1536     46\n",
      "1708     44\n",
      "       ... \n",
      "788       1\n",
      "1022      1\n",
      "801       1\n",
      "807       1\n",
      "880       1\n",
      "Name: white_rating, Length: 1516, dtype: int64\n",
      "==================================================\n",
      "==================================================\n",
      "Values Counts of black_id\n",
      "king5891        44\n",
      "docboss         44\n",
      "ducksandcats    41\n",
      "taranga         38\n",
      "saviter         38\n",
      "                ..\n",
      "cm0911           1\n",
      "harland          1\n",
      "wansilence       1\n",
      "grooveman        1\n",
      "ffbob            1\n",
      "Name: black_id, Length: 9331, dtype: int64\n",
      "==================================================\n",
      "==================================================\n",
      "Values Counts of black_rating\n",
      "1500    785\n",
      "1400     68\n",
      "1501     53\n",
      "1810     46\n",
      "1562     45\n",
      "       ... \n",
      "889       1\n",
      "893       1\n",
      "902       1\n",
      "919       1\n",
      "860       1\n",
      "Name: black_rating, Length: 1521, dtype: int64\n",
      "==================================================\n",
      "==================================================\n",
      "Values Counts of moves\n",
      "e4 e5                                                                                                                                                                                                                                                                                                                                                                                                                                                                                                                                                                                                                                                                                                                                                                                  27\n",
      "e4 d5                                                                                                                                                                                                                                                                                                                                                                                                                                                                                                                                                                                                                                                                                                                                                                                  21\n",
      "d4 d5                                                                                                                                                                                                                                                                                                                                                                                                                                                                                                                                                                                                                                                                                                                                                                                  17\n",
      "e4 e5 Nf3                                                                                                                                                                                                                                                                                                                                                                                                                                                                                                                                                                                                                                                                                                                                                                              16\n",
      "f4 e6 g4 Qh4#                                                                                                                                                                                                                                                                                                                                                                                                                                                                                                                                                                                                                                                                                                                                                                          11\n",
      "                                                                                                                                                                                                                                                                                                                                                                                                                                                                                                                                                                                                                                                                                                                                                                                       ..\n",
      "e4 c5 Nf3 Nc6 Bb5 d6 O-O Bd7 d3 a6 Bxc6 Bxc6 Nc3 e6 Bf4 e5 Bd2 Nf6 Qe2 Be7 Nd1 b5 a4 b4 Ne3 O-O h3 Qc7 Nf5 Bd8 Bg5 g6 Bxf6 Bxf6 Ne3 Rab8 Nd2 Bg5 Qg4 Qd8 Ndc4 Kh8 Qe2 f5 Nd5 Re8 a5 Bxd5 exd5 Qd7 Rfe1 Kg8 Qf3 Rf8 Nb6 Qf7 Rad1 Rb7 Nc4 Qe7 g3 Bh6 h4 Rd7 h5 g5 Nb6 g4 Qg2 Rdd8 d4 cxd4 Rxd4 Bc1 Rc4 Bxb2 Na4 Ba3 Qh1 Qg5 Nb6 Qd2 Rf1 Bb2 h6 Kh8 Qh4 e4 Rc7 Bf6 Nc4 Qxc2 Qh5 Bd4 Qg5 Qc3 Kh2 f4 Rf7 Bf6 Rxf8+ Rxf8 Qxf4 Qxc4 Qxd6 Qc8 Qxb4 Bc3 Qxe4 Qf5 Qe3 Qf3 Qe6 Bxa5 Qxa6 Qxd5 Kg1 Qc5 Kg2 Bc3 Qe6 Qd4 f4 Rg8 Rf2 Qd3 Re2 Qf3+ Kh2 Qf1 Rg2 Qb5 f5 Re8 Qf7 Bd4 Rf2 Rg8 Qe6 Qc5 Rg2 Rf8 Re2 Qc1 Re1 Qg5 Kg2 Rb8 Kf1 Qh5 Qe4 Qh3+ Qg2 Qxh6 Qe4 Qh3+ Ke2 Qh2+ Kd3 Qxg3+ Kxd4 Rd8+ Kc4 Qc7+ Kb3 Rb8+ Qb4 Qg3+ Re3 Qxe3+ Ka4 Rxb4+ Kxb4 Qe4+ Kc5 g3 f6 g2 f7 g1=Q+ Kb5 Qgb1+ Ka6 Qa4#     1\n",
      "e4 e5 Nf3 Nc6 Bc4 Nf6 d4 exd4 Nxd4 Nxe4 Qf3 d5 Nxc6 bxc6 Bb3 Qh4 O-O Bg4 Qe3 Bc5 Qf4 Bd6 g3 Qh3 Qe3 Bc5 Qd3 O-O Nc3 Rae8 Na4 Be2 Qxe2 Nxg3 Be3 Nxe2+ Kh1 Qf3#                                                                                                                                                                                                                                                                                                                                                                                                                                                                                                                                                                                                                           1\n",
      "e4 e5 Nf3 Nc6 Bc4 Nf6 Ng5 d5 exd5 Na5 Bb5+ c6 dxc6 bxc6 Be2 h6 Nh3 Bc5 d3 O-O O-O Bxh3 gxh3 Qd7 Bg4 Nxg4 Qxg4 f5 Qg2 Rf6 Kh1 Re8 Bd2 Nb7 Nc3 Nd6 Rg1 e4 Na4 Bd4 c3 Bb6 Nxb6 axb6 dxe4 Nc4 exf5 Nxd2 Rad1 Re2 Qg3 Rxf5 Qg4 Rfxf2 Qg3 Qd5+ Rg2 Rxg2 Qb8+ Kh7 Qf4 Rg1+ Kxg1 Qg2#                                                                                                                                                                                                                                                                                                                                                                                                                                                                                                           1\n",
      "e4 e5 Nf3 Nc6 Bb5 a6 Bxc6 dxc6 O-O Qd6 d4 exd4 Nxd4 Bd7 Nc3 Bh3 gxh3 Qd7 Nf5 O-O-O Qf3 g6 Rd1 Qe8 Rxd8+ Qxd8 Ng3 Nf6 Bg5 Be7 Rd1 Nd7 Bxe7 Qxe7 Qe3 Re8 f4 h5 Kg2 Nb6 e5 f6 Qd3 fxe5 Re1 Qf7 fxe5 Re6 h4 Qe7 Rf1 Nd7 Nge4 Rxe5 Ng5 Qe8 Nce4 Kb8 c4 Nc5 Nxc5 Rxc5 Nf7 Qe6 Rf4 b5 cxb5 cxb5 b3 Qc6+ Rf3 Rc2+ Kg3 Qc5 Qe3 Qxe3 Rxe3 Rxa2 Nh8 Ka7 Nxg6 a5 Nf4 Ra3 Kf3 b4 Nxh5 a4 Nf4 axb3 Nd3 c5 Nb2 Ra2 Re2 Ka6 h5 Kb5 h6 Ra6 h7 Rh6 Re7 Rxh2 Kg4 Kc6 Nc4 Kb5 Nb2 Kc6 Nc4 Kb5 Nb2                                                                                                                                                                                                                                                                                                           1\n",
      "d4 d5 Bf4 Na6 e3 e6 c3 Nf6 Nf3 Bd7 Nbd2 b5 Bd3 Qc8 e4 b4 e5 Ne4 Nxe4 dxe4 Bxe4 bxc3 Bxa8 Qxa8 bxc3 Ba3 Rb1 c5 Qd3 O-O Qxa6 Bc6 Qxa3 Bxf3 gxf3 Qxf3 Qxa7 Qxh1+ Ke2 Qxb1 Qxc5 Qc2+ Ke3 Qxa2 Qb4 h6 c4 g5 Bg3 Qa8 c5 Rb8 Qc3 f5 f4 Qe4+ Kd2 Qg2+ Kd3 gxf4 Bxf4 Qf3+ Kc4 Qxf4 c6 Qf1+ Kc5 Rb1 Qg3+ Kf7 c7 Rc1+ Kd6 Qa6+ Kd7 Qb5+ Kd8 Qe8#                                                                                                                                                                                                                                                                                                                                                                                                                                                   1\n",
      "Name: moves, Length: 18920, dtype: int64\n",
      "==================================================\n",
      "==================================================\n",
      "Values Counts of opening_eco\n",
      "A00    992\n",
      "C00    824\n",
      "D00    719\n",
      "B01    707\n",
      "C41    671\n",
      "      ... \n",
      "C32      1\n",
      "E18      1\n",
      "D95      1\n",
      "D22      1\n",
      "D19      1\n",
      "Name: opening_eco, Length: 365, dtype: int64\n",
      "==================================================\n",
      "==================================================\n",
      "Values Counts of opening_name\n",
      "Van't Kruijs Opening                                            363\n",
      "Sicilian Defense                                                353\n",
      "Sicilian Defense: Bowdler Attack                                294\n",
      "French Defense: Knight Variation                                265\n",
      "Scotch Game                                                     264\n",
      "                                                               ... \n",
      "King's Pawn Game: Philidor Gambit                                 1\n",
      "Benko Gambit Declined |  Main Line                                1\n",
      "King's Indian Defense: Orthodox Variation |  Donner Defense       1\n",
      "French Defense: Winawer Variation |  Retreat Variation            1\n",
      "Sicilian Defense: Najdorf Variation |  Polugaevsky Variation      1\n",
      "Name: opening_name, Length: 1477, dtype: int64\n",
      "==================================================\n",
      "==================================================\n",
      "Values Counts of opening_ply\n",
      "3     3422\n",
      "4     3248\n",
      "2     2894\n",
      "5     2672\n",
      "6     1969\n",
      "7     1307\n",
      "1     1077\n",
      "8     1077\n",
      "9      668\n",
      "10     419\n",
      "11     418\n",
      "12     138\n",
      "13     123\n",
      "14      54\n",
      "15      41\n",
      "17      35\n",
      "16      30\n",
      "18      12\n",
      "19      11\n",
      "20       8\n",
      "28       4\n",
      "22       1\n",
      "24       1\n",
      "Name: opening_ply, dtype: int64\n",
      "==================================================\n",
      "==================================================\n",
      "Values Counts of match_duration\n"
     ]
    },
    {
     "name": "stdout",
     "output_type": "stream",
     "text": [
      "0.0           8533\n",
      "10000000.0     732\n",
      "20000000.0       3\n",
      "754889.0         2\n",
      "920151.0         2\n",
      "              ... \n",
      "855315.0         1\n",
      "734207.0         1\n",
      "1213270.0        1\n",
      "368427.0         1\n",
      "736699.0         1\n",
      "Name: match_duration, Length: 10327, dtype: int64\n",
      "==================================================\n"
     ]
    }
   ],
   "source": [
    "for col in df.columns[1:]:\n",
    "    print(\"==================================================\")\n",
    "    print(f\"Values Counts of {col}\")\n",
    "    print(df[col].value_counts())\n",
    "    print(\"==================================================\")"
   ]
  },
  {
   "cell_type": "markdown",
   "id": "e8b056cb",
   "metadata": {},
   "source": [
    "## Summary \n"
   ]
  },
  {
   "cell_type": "markdown",
   "id": "47c8ac61",
   "metadata": {},
   "source": [
    "- rated: Most of the matches in the dataset are rated (True) compared to unrated matches (False).\n",
    "\n",
    "- created_at and last_move_at: These columns represent the timestamp of when the game was created and the last move was made, respectively. There is a variety of timestamps, indicating matches were created and ended at various times.\n",
    "- turns: The number of turns in a game varies significantly, ranging from 1 to 221. The most common number of turns seems to be around 45-53.\n",
    "- victory_status: The majority of games ended in resignation, followed by checkmate (mate), out of time (outoftime), and draws.\n",
    "- winner:In terms of winners, White wins slightly more often than Black, with a noticeable number of draws.\n",
    "- increment_code: This column indicates the time control for each match, with various formats and time controls present.\n",
    "- white_id and black_id: These columns represent the usernames or IDs of white and black players, respectively.There is a variety of usernames, indicating matches involve different players.\n",
    "- white_rating and black_rating: These columns represent the Elo ratings of white and black players, respectively.Ratings range from 1 to 2700, with various ratings represented in the dataset.\n",
    "- moves: This column represents the sequence of moves made in the game.Various opening moves and strategies are evident, with some games ending quickly and others having longer sequences of moves.\n",
    "- opening_eco and opening_name: These columns represent the openings used in the games, categorized by the Encyclopedia of Chess Openings (ECO) code and the opening name.Several openings are popular, with Van't Kruijs Opening and Sicilian Defense being common.\n",
    "- opening_ply: This column represents the number of moves played in the opening phase.Most openings consist of 2-7 moves.\n",
    "- match_duration: This column indicates the duration of each match.Most matches have a duration of 0, likely indicating rapid or blitz games, while others have various durations."
   ]
  },
  {
   "cell_type": "markdown",
   "id": "5546ad88",
   "metadata": {},
   "source": [
    "## 2. Using the opening moves, opening styles, color, and other features, Is it possible to predict the winner of a match to a certain degree? Explain your answer."
   ]
  },
  {
   "cell_type": "code",
   "execution_count": 23,
   "id": "8d88e344",
   "metadata": {},
   "outputs": [
    {
     "data": {
      "text/plain": [
       "Index(['id', 'rated', 'created_at', 'last_move_at', 'turns', 'victory_status',\n",
       "       'winner', 'increment_code', 'white_id', 'white_rating', 'black_id',\n",
       "       'black_rating', 'moves', 'opening_eco', 'opening_name', 'opening_ply',\n",
       "       'match_duration'],\n",
       "      dtype='object')"
      ]
     },
     "execution_count": 23,
     "metadata": {},
     "output_type": "execute_result"
    }
   ],
   "source": [
    "df.columns"
   ]
  },
  {
   "cell_type": "code",
   "execution_count": 24,
   "id": "d7b83725",
   "metadata": {},
   "outputs": [],
   "source": [
    "# Removing some non usefull columns for modelling\n",
    "df.drop(['id','white_id','black_id'],inplace=True,axis=1)"
   ]
  },
  {
   "cell_type": "markdown",
   "id": "f37ddcf2",
   "metadata": {},
   "source": [
    "### Lets Try some Base models first"
   ]
  },
  {
   "cell_type": "code",
   "execution_count": 25,
   "id": "4666e270",
   "metadata": {},
   "outputs": [],
   "source": [
    "# Extract relevant features and target variable\n",
    "X = df.drop(columns=['winner'])\n",
    "y = df['winner']\n",
    "\n",
    "# Apply label encoding\n",
    "label_encoder = preprocessing.LabelEncoder()  \n",
    "X_encoded = X.apply(label_encoder.fit_transform)\n",
    "\n",
    "# Apply scaling\n",
    "scaler = MinMaxScaler()\n",
    "X_scaled = scaler.fit_transform(X_encoded)\n",
    "\n",
    "# Split the scaled dataset into training and testing sets\n",
    "X_train, X_test, y_train, y_test = train_test_split(X_scaled, y, test_size=0.2, random_state=4)\n",
    "\n",
    "classifiers = [[KNeighborsClassifier(), 'K-Nearest Neighbours'],[GaussianNB(),'GaussianNB'],\n",
    "    [DecisionTreeClassifier(),'Decision Tree Classifier'],[LogisticRegression(),'Logistic Regression']]"
   ]
  },
  {
   "cell_type": "code",
   "execution_count": 26,
   "id": "b27af01d",
   "metadata": {},
   "outputs": [],
   "source": [
    "def predict(X_train, y_train,X_test,y_test):\n",
    "    for cls in classifiers:\n",
    "        model = cls[0]\n",
    "        model.fit(X_train, y_train)\n",
    "\n",
    "        y_pred = model.predict(X_test)\n",
    "        print(cls[1])\n",
    "        print(\"Accuracy : \", accuracy_score(y_test, y_pred) *  100)"
   ]
  },
  {
   "cell_type": "code",
   "execution_count": 27,
   "id": "0db07914",
   "metadata": {},
   "outputs": [
    {
     "name": "stdout",
     "output_type": "stream",
     "text": [
      "K-Nearest Neighbours\n",
      "Accuracy :  57.819663779928675\n",
      "GaussianNB\n",
      "Accuracy :  62.302598064187464\n",
      "Decision Tree Classifier\n",
      "Accuracy :  61.23280692817117\n",
      "Logistic Regression\n",
      "Accuracy :  65.05348955680081\n"
     ]
    }
   ],
   "source": [
    "predict(X_train, y_train,X_test,y_test)"
   ]
  },
  {
   "cell_type": "markdown",
   "id": "f94b3abd",
   "metadata": {},
   "source": [
    "### Random forest"
   ]
  },
  {
   "cell_type": "code",
   "execution_count": 28,
   "id": "1aed4b39",
   "metadata": {},
   "outputs": [
    {
     "name": "stdout",
     "output_type": "stream",
     "text": [
      "Model Evaluation:\n",
      "Accuracy: 0.6668364747834946\n",
      "Classification Report:\n",
      "              precision    recall  f1-score   support\n",
      "\n",
      "       black       0.64      0.61      0.62      1779\n",
      "        draw       1.00      0.94      0.97       197\n",
      "       white       0.66      0.69      0.67      1950\n",
      "\n",
      "    accuracy                           0.67      3926\n",
      "   macro avg       0.77      0.75      0.76      3926\n",
      "weighted avg       0.67      0.67      0.67      3926\n",
      "\n"
     ]
    }
   ],
   "source": [
    "model = RandomForestClassifier(random_state=4)\n",
    "\n",
    "# Train the model\n",
    "model.fit(X_train, y_train)\n",
    "\n",
    "# Predict the target variable\n",
    "y_pred = model.predict(X_test)\n",
    "\n",
    "# Evaluate the model's performance\n",
    "accuracy = accuracy_score(y_test, y_pred)\n",
    "report = classification_report(y_test, y_pred)\n",
    "\n",
    "print(\"Model Evaluation:\")\n",
    "print(\"Accuracy:\", accuracy)\n",
    "print(\"Classification Report:\")\n",
    "print(report)"
   ]
  },
  {
   "cell_type": "markdown",
   "id": "d10383c7",
   "metadata": {},
   "source": [
    "### Feature importance"
   ]
  },
  {
   "cell_type": "code",
   "execution_count": 29,
   "id": "f2aff064",
   "metadata": {},
   "outputs": [
    {
     "data": {
      "image/png": "[encoded data removed]",
      "text/plain": [
       "<Figure size 1000x600 with 1 Axes>"
      ]
     },
     "metadata": {},
     "output_type": "display_data"
    }
   ],
   "source": [
    "importances = model.feature_importances_\n",
    "feature_names = X.columns\n",
    "\n",
    "# Create a DataFrame for plotting\n",
    "feature_importance_df = pd.DataFrame({\n",
    "    'Feature': feature_names,\n",
    "    'Importance': importances\n",
    "})\n",
    "\n",
    "# Sort the DataFrame by importance\n",
    "feature_importance_df = feature_importance_df.sort_values(by='Importance', ascending=False)\n",
    "\n",
    "# Plot\n",
    "plt.figure(figsize=(10, 6))\n",
    "sns.barplot(x='Importance', y='Feature', data=feature_importance_df)\n",
    "plt.title('Feature Importances')\n",
    "plt.xlabel('Importance')\n",
    "plt.ylabel('Feature')\n",
    "plt.show()"
   ]
  },
  {
   "cell_type": "markdown",
   "id": "dfcadf11",
   "metadata": {},
   "source": [
    "### After Selecting Important Features"
   ]
  },
  {
   "cell_type": "code",
   "execution_count": 30,
   "id": "d4309802",
   "metadata": {},
   "outputs": [],
   "source": [
    "# We will select Top 5 features for furthur modelling and see if it improves our model.\n",
    "\n",
    "df.drop(['rated','opening_ply','created_at','increment_code','last_move_at','match_duration','opening_eco', 'opening_name'],inplace=True,axis=1)"
   ]
  },
  {
   "cell_type": "code",
   "execution_count": 31,
   "id": "1d95f570",
   "metadata": {},
   "outputs": [
    {
     "name": "stdout",
     "output_type": "stream",
     "text": [
      "Model Evaluation:\n",
      "Accuracy: 0.6935812531839022\n",
      "Classification Report:\n",
      "              precision    recall  f1-score   support\n",
      "\n",
      "       black       0.67      0.65      0.66      1779\n",
      "        draw       1.00      0.95      0.97       197\n",
      "       white       0.69      0.71      0.70      1950\n",
      "\n",
      "    accuracy                           0.69      3926\n",
      "   macro avg       0.78      0.77      0.78      3926\n",
      "weighted avg       0.69      0.69      0.69      3926\n",
      "\n"
     ]
    }
   ],
   "source": [
    "X = df.drop(columns=['winner'])\n",
    "y = df['winner']\n",
    "\n",
    "# Apply label encoding\n",
    "label_encoder = preprocessing.LabelEncoder()  \n",
    "X_encoded = X.apply(label_encoder.fit_transform)\n",
    "\n",
    "# Apply scaling\n",
    "scaler = MinMaxScaler()\n",
    "X_scaled = scaler.fit_transform(X_encoded)\n",
    "\n",
    "# Split the scaled dataset into training and testing sets\n",
    "X_train, X_test, y_train, y_test = train_test_split(X_scaled, y, test_size=0.2, random_state=4)\n",
    "\n",
    "# Choose a machine learning algorithm (Random Forest Classifier in this case)\n",
    "model = RandomForestClassifier(random_state=4)\n",
    "\n",
    "# Train the model\n",
    "model.fit(X_train, y_train)\n",
    "\n",
    "# Predict the target variable\n",
    "y_pred = model.predict(X_test)\n",
    "\n",
    "# Evaluate the model's performance\n",
    "accuracy = accuracy_score(y_test, y_pred)\n",
    "report = classification_report(y_test, y_pred)\n",
    "\n",
    "print(\"Model Evaluation:\")\n",
    "print(\"Accuracy:\", accuracy)\n",
    "print(\"Classification Report:\")\n",
    "print(report)"
   ]
  },
  {
   "cell_type": "markdown",
   "id": "549747ec",
   "metadata": {},
   "source": [
    "### Hyper Parameter Tuning"
   ]
  },
  {
   "cell_type": "code",
   "execution_count": 32,
   "id": "8dce022f",
   "metadata": {
    "scrolled": true
   },
   "outputs": [
    {
     "name": "stdout",
     "output_type": "stream",
     "text": [
      "Best hyperparameters: {'max_depth': None, 'min_samples_leaf': 1, 'min_samples_split': 10, 'n_estimators': 300}\n",
      "Model Evaluation:\n",
      "Accuracy: 0.6915435557819664\n",
      "Classification Report:\n",
      "              precision    recall  f1-score   support\n",
      "\n",
      "       black       0.67      0.64      0.65      1779\n",
      "        draw       1.00      0.94      0.97       197\n",
      "       white       0.68      0.71      0.70      1950\n",
      "\n",
      "    accuracy                           0.69      3926\n",
      "   macro avg       0.78      0.76      0.77      3926\n",
      "weighted avg       0.69      0.69      0.69      3926\n",
      "\n"
     ]
    }
   ],
   "source": [
    "# Define the hyperparameters grid\n",
    "param_grid = {\n",
    "    'n_estimators': [100, 200, 300],  # Number of trees in the forest\n",
    "    'max_depth': [None, 10, 20, 30],   # Maximum depth of the tree\n",
    "    'min_samples_split': [2, 5, 10],    # Minimum number of samples required to split a node\n",
    "    'min_samples_leaf': [1, 2, 4]       # Minimum number of samples required at each leaf node\n",
    "}\n",
    "\n",
    "# Create a Random Forest classifier\n",
    "rf_classifier = RandomForestClassifier(random_state=4)\n",
    "\n",
    "# Perform grid search with cross-validation\n",
    "grid_search = GridSearchCV(estimator=rf_classifier, param_grid=param_grid, cv=5, scoring='accuracy', n_jobs=-1)\n",
    "grid_search.fit(X_train, y_train)\n",
    "\n",
    "# Print the best hyperparameters found\n",
    "print(\"Best hyperparameters:\", grid_search.best_params_)\n",
    "\n",
    "# Evaluate the model with the best hyperparameters on the test set\n",
    "best_rf_classifier = grid_search.best_estimator_\n",
    "y_pred = best_rf_classifier.predict(X_test)\n",
    "\n",
    "# Evaluate the model's performance\n",
    "accuracy = accuracy_score(y_test, y_pred)\n",
    "report = classification_report(y_test, y_pred)\n",
    "\n",
    "print(\"Model Evaluation:\")\n",
    "print(\"Accuracy:\", accuracy)\n",
    "print(\"Classification Report:\")\n",
    "print(report)\n"
   ]
  },
  {
   "cell_type": "markdown",
   "id": "717beab1",
   "metadata": {},
   "source": [
    "### Smote"
   ]
  },
  {
   "cell_type": "code",
   "execution_count": 33,
   "id": "09f85e3c",
   "metadata": {},
   "outputs": [
    {
     "name": "stdout",
     "output_type": "stream",
     "text": [
      "Model Evaluation:\n",
      "Accuracy: 0.6946001018848701\n",
      "Classification Report:\n",
      "              precision    recall  f1-score   support\n",
      "\n",
      "       black       0.66      0.67      0.67      1779\n",
      "        draw       0.93      0.97      0.95       197\n",
      "       white       0.70      0.69      0.69      1950\n",
      "\n",
      "    accuracy                           0.69      3926\n",
      "   macro avg       0.76      0.78      0.77      3926\n",
      "weighted avg       0.69      0.69      0.69      3926\n",
      "\n"
     ]
    }
   ],
   "source": [
    "smote = SMOTE(random_state=42)\n",
    "X_train_resampled, y_train_resampled = smote.fit_resample(X_train, y_train)\n",
    "\n",
    "# Train the model (you can use any classifier)\n",
    "model = RandomForestClassifier(random_state=4)\n",
    "model.fit(X_train_resampled, y_train_resampled)\n",
    "\n",
    "# Predict on the testing set\n",
    "y_pred = model.predict(X_test)\n",
    "\n",
    "# Evaluate the model's performance\n",
    "accuracy = accuracy_score(y_test, y_pred)\n",
    "report = classification_report(y_test, y_pred)\n",
    "\n",
    "print(\"Model Evaluation:\")\n",
    "print(\"Accuracy:\", accuracy)\n",
    "print(\"Classification Report:\")\n",
    "print(report)"
   ]
  },
  {
   "cell_type": "markdown",
   "id": "17516f8b",
   "metadata": {},
   "source": [
    "## Modelling Summary"
   ]
  },
  {
   "cell_type": "markdown",
   "id": "a6915815",
   "metadata": {},
   "source": [
    "Using the opening moves, opening styles, color, and other features, Is it possible to predict the winner of a match to a certain degree?\n",
    "- Answer to above Question is No, As our model is only able to predict 69 percent of data pattern which is very low according to my understanding of business problem.\n",
    "\n",
    "I did following steps for modelling and evaluation :-\n",
    "- Did Label Encoding as our data was having large number of categorical data with many levels.\n",
    "- Did MinMax Scaling as our data was skewed and had outliers.\n",
    "- First I tried some base models like KNN, GaussianNB, Logistic Regression, Decision Tree Classifier. All of them didnt performed well. \n",
    "- Then Random forest model was build but it only gave 67 percent accuracy also F1 score were very low for all classes.\n",
    "- Furthur using feature importance I selected top 5 features to see if there is any improvement in predictions but that was also not so effective.\n",
    "- Furthur more I tried Hyper parameter tuning but still the model did not perform well.\n",
    "- So for the final step i tried smote which also didnt worked well in this case\n",
    "\n",
    "* So after all this I came to conclusion that our model is underfitting and we need more training data for better prediction of winner.\n",
    "\n"
   ]
  },
  {
   "cell_type": "code",
   "execution_count": null,
   "id": "9433abbc",
   "metadata": {},
   "outputs": [],
   "source": []
  },
  {
   "cell_type": "code",
   "execution_count": null,
   "id": "fbce78ff",
   "metadata": {},
   "outputs": [],
   "source": []
  },
  {
   "cell_type": "code",
   "execution_count": null,
   "id": "2396a05c",
   "metadata": {},
   "outputs": [],
   "source": []
  },
  {
   "cell_type": "code",
   "execution_count": null,
   "id": "94cdd366",
   "metadata": {},
   "outputs": [],
   "source": []
  }
 ],
 "metadata": {
  "kernelspec": {
   "display_name": "Python 3 (ipykernel)",
   "language": "python",
   "name": "python3"
  },
  "language_info": {
   "codemirror_mode": {
    "name": "ipython",
    "version": 3
   },
   "file_extension": ".py",
   "mimetype": "text/x-python",
   "name": "python",
   "nbconvert_exporter": "python",
   "pygments_lexer": "ipython3",
   "version": "3.10.9"
  }
 },
 "nbformat": 4,
 "nbformat_minor": 5
}
